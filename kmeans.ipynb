{
 "cells": [
  {
   "cell_type": "code",
   "execution_count": 1,
   "metadata": {},
   "outputs": [],
   "source": [
    "import numpy as np\n",
    "import pandas as pd\n",
    "import matplotlib.pyplot as plt\n",
    "\n",
    "from sklearn import preprocessing\n",
    "\n",
    "from sklearn.cluster import KMeans\n",
    "\n",
    "from sklearn.decomposition import PCA"
   ]
  },
  {
   "cell_type": "markdown",
   "metadata": {},
   "source": [
    "### Data Processing"
   ]
  },
  {
   "cell_type": "code",
   "execution_count": 2,
   "metadata": {},
   "outputs": [
    {
     "data": {
      "text/html": [
       "<div>\n",
       "<style scoped>\n",
       "    .dataframe tbody tr th:only-of-type {\n",
       "        vertical-align: middle;\n",
       "    }\n",
       "\n",
       "    .dataframe tbody tr th {\n",
       "        vertical-align: top;\n",
       "    }\n",
       "\n",
       "    .dataframe thead th {\n",
       "        text-align: right;\n",
       "    }\n",
       "</style>\n",
       "<table border=\"1\" class=\"dataframe\">\n",
       "  <thead>\n",
       "    <tr style=\"text-align: right;\">\n",
       "      <th></th>\n",
       "      <th>mpg</th>\n",
       "      <th>cylinders</th>\n",
       "      <th>cubicinches</th>\n",
       "      <th>hp</th>\n",
       "      <th>weightlbs</th>\n",
       "      <th>time-to-60</th>\n",
       "      <th>year</th>\n",
       "      <th>brand</th>\n",
       "    </tr>\n",
       "  </thead>\n",
       "  <tbody>\n",
       "    <tr>\n",
       "      <th>0</th>\n",
       "      <td>14</td>\n",
       "      <td>8</td>\n",
       "      <td>350</td>\n",
       "      <td>165</td>\n",
       "      <td>4209</td>\n",
       "      <td>12</td>\n",
       "      <td>1972</td>\n",
       "      <td>US.</td>\n",
       "    </tr>\n",
       "    <tr>\n",
       "      <th>1</th>\n",
       "      <td>31.9</td>\n",
       "      <td>4</td>\n",
       "      <td>89</td>\n",
       "      <td>71</td>\n",
       "      <td>1925</td>\n",
       "      <td>14</td>\n",
       "      <td>1980</td>\n",
       "      <td>Europe.</td>\n",
       "    </tr>\n",
       "    <tr>\n",
       "      <th>2</th>\n",
       "      <td>17</td>\n",
       "      <td>8</td>\n",
       "      <td>302</td>\n",
       "      <td>140</td>\n",
       "      <td>3449</td>\n",
       "      <td>11</td>\n",
       "      <td>1971</td>\n",
       "      <td>US.</td>\n",
       "    </tr>\n",
       "    <tr>\n",
       "      <th>3</th>\n",
       "      <td>15</td>\n",
       "      <td>8</td>\n",
       "      <td>400</td>\n",
       "      <td>150</td>\n",
       "      <td>3761</td>\n",
       "      <td>10</td>\n",
       "      <td>1971</td>\n",
       "      <td>US.</td>\n",
       "    </tr>\n",
       "    <tr>\n",
       "      <th>4</th>\n",
       "      <td>30.5</td>\n",
       "      <td>4</td>\n",
       "      <td>98</td>\n",
       "      <td>63</td>\n",
       "      <td>2051</td>\n",
       "      <td>17</td>\n",
       "      <td>1978</td>\n",
       "      <td>US.</td>\n",
       "    </tr>\n",
       "  </tbody>\n",
       "</table>\n",
       "</div>"
      ],
      "text/plain": [
       "    mpg cylinders cubicinches   hp weightlbs time-to-60  year     brand\n",
       "0    14         8         350  165      4209         12  1972       US.\n",
       "1  31.9         4          89   71      1925         14  1980   Europe.\n",
       "2    17         8         302  140      3449         11  1971       US.\n",
       "3    15         8         400  150      3761         10  1971       US.\n",
       "4  30.5         4          98   63      2051         17  1978       US."
      ]
     },
     "execution_count": 2,
     "metadata": {},
     "output_type": "execute_result"
    }
   ],
   "source": [
    "dataset=pd.read_csv(r'C:/Users/maykan/Desktop/cluster/cars.csv')\n",
    "\n",
    "df = dataset.iloc[:,:].values\n",
    "\n",
    "df = pd.DataFrame(df)\n",
    "\n",
    "df.columns = ['mpg', 'cylinders', 'cubicinches', 'hp', 'weightlbs', 'time-to-60', 'year','brand']\n",
    "\n",
    "df.head()\n",
    "\n",
    "#mpg:bir galon yakıtla gidebileceği mesafe mil cinsinden\n",
    "#cubicinche : hacim\n",
    "#hp : beygir gücü\n",
    "#weightlbs: ağırlık\n",
    "#time-to-60: 60 km hıza çıkış süresi\n",
    "#brand: marka"
   ]
  },
  {
   "cell_type": "code",
   "execution_count": 3,
   "metadata": {},
   "outputs": [
    {
     "name": "stdout",
     "output_type": "stream",
     "text": [
      "<class 'pandas.core.frame.DataFrame'>\n",
      "RangeIndex: 261 entries, 0 to 260\n",
      "Data columns (total 8 columns):\n",
      " #   Column       Non-Null Count  Dtype \n",
      "---  ------       --------------  ----- \n",
      " 0   mpg          261 non-null    object\n",
      " 1   cylinders    261 non-null    object\n",
      " 2   cubicinches  261 non-null    object\n",
      " 3   hp           261 non-null    object\n",
      " 4   weightlbs    261 non-null    object\n",
      " 5   time-to-60   261 non-null    object\n",
      " 6   year         261 non-null    object\n",
      " 7   brand        261 non-null    object\n",
      "dtypes: object(8)\n",
      "memory usage: 16.4+ KB\n"
     ]
    }
   ],
   "source": [
    "df.info()"
   ]
  },
  {
   "cell_type": "code",
   "execution_count": 4,
   "metadata": {},
   "outputs": [],
   "source": [
    "def to_num(s):\n",
    "    try:\n",
    "        return float(s)\n",
    "    except:\n",
    "        return None\n",
    "\n",
    "\n",
    "data_col=df.columns\n",
    "for i in data_col[:-1]:\n",
    "    df[i]=df[i].apply(lambda x: to_num(x))"
   ]
  },
  {
   "cell_type": "code",
   "execution_count": 5,
   "metadata": {},
   "outputs": [
    {
     "name": "stdout",
     "output_type": "stream",
     "text": [
      "<class 'pandas.core.frame.DataFrame'>\n",
      "RangeIndex: 261 entries, 0 to 260\n",
      "Data columns (total 8 columns):\n",
      " #   Column       Non-Null Count  Dtype  \n",
      "---  ------       --------------  -----  \n",
      " 0   mpg          261 non-null    float64\n",
      " 1   cylinders    261 non-null    float64\n",
      " 2   cubicinches  259 non-null    float64\n",
      " 3   hp           261 non-null    float64\n",
      " 4   weightlbs    258 non-null    float64\n",
      " 5   time-to-60   261 non-null    float64\n",
      " 6   year         261 non-null    float64\n",
      " 7   brand        261 non-null    object \n",
      "dtypes: float64(7), object(1)\n",
      "memory usage: 16.4+ KB\n"
     ]
    }
   ],
   "source": [
    "df.info()"
   ]
  },
  {
   "cell_type": "code",
   "execution_count": 6,
   "metadata": {},
   "outputs": [
    {
     "name": "stdout",
     "output_type": "stream",
     "text": [
      "<class 'pandas.core.frame.DataFrame'>\n",
      "RangeIndex: 261 entries, 0 to 260\n",
      "Data columns (total 8 columns):\n",
      " #   Column       Non-Null Count  Dtype  \n",
      "---  ------       --------------  -----  \n",
      " 0   mpg          261 non-null    float64\n",
      " 1   cylinders    261 non-null    float64\n",
      " 2   cubicinches  261 non-null    float64\n",
      " 3   hp           261 non-null    float64\n",
      " 4   weightlbs    261 non-null    float64\n",
      " 5   time-to-60   261 non-null    float64\n",
      " 6   year         261 non-null    float64\n",
      " 7   brand        261 non-null    object \n",
      "dtypes: float64(7), object(1)\n",
      "memory usage: 16.4+ KB\n"
     ]
    }
   ],
   "source": [
    "df['cubicinches']=df['cubicinches'].fillna((df['cubicinches'].mean()))\n",
    "df['weightlbs']=df['weightlbs'].fillna((df['weightlbs'].mean()))\n",
    "df.info()"
   ]
  },
  {
   "cell_type": "code",
   "execution_count": 7,
   "metadata": {},
   "outputs": [
    {
     "data": {
      "text/html": [
       "<div>\n",
       "<style scoped>\n",
       "    .dataframe tbody tr th:only-of-type {\n",
       "        vertical-align: middle;\n",
       "    }\n",
       "\n",
       "    .dataframe tbody tr th {\n",
       "        vertical-align: top;\n",
       "    }\n",
       "\n",
       "    .dataframe thead th {\n",
       "        text-align: right;\n",
       "    }\n",
       "</style>\n",
       "<table border=\"1\" class=\"dataframe\">\n",
       "  <thead>\n",
       "    <tr style=\"text-align: right;\">\n",
       "      <th></th>\n",
       "      <th>mpg</th>\n",
       "      <th>cylinders</th>\n",
       "      <th>cubicinches</th>\n",
       "      <th>hp</th>\n",
       "      <th>weightlbs</th>\n",
       "      <th>time-to-60</th>\n",
       "      <th>year</th>\n",
       "    </tr>\n",
       "  </thead>\n",
       "  <tbody>\n",
       "    <tr>\n",
       "      <th>0</th>\n",
       "      <td>0.109290</td>\n",
       "      <td>1.0</td>\n",
       "      <td>0.728682</td>\n",
       "      <td>0.646739</td>\n",
       "      <td>0.767139</td>\n",
       "      <td>0.235294</td>\n",
       "      <td>0.083333</td>\n",
       "    </tr>\n",
       "    <tr>\n",
       "      <th>1</th>\n",
       "      <td>0.598361</td>\n",
       "      <td>0.2</td>\n",
       "      <td>0.054264</td>\n",
       "      <td>0.135870</td>\n",
       "      <td>0.092199</td>\n",
       "      <td>0.352941</td>\n",
       "      <td>0.750000</td>\n",
       "    </tr>\n",
       "    <tr>\n",
       "      <th>2</th>\n",
       "      <td>0.191257</td>\n",
       "      <td>1.0</td>\n",
       "      <td>0.604651</td>\n",
       "      <td>0.510870</td>\n",
       "      <td>0.542553</td>\n",
       "      <td>0.176471</td>\n",
       "      <td>0.000000</td>\n",
       "    </tr>\n",
       "    <tr>\n",
       "      <th>3</th>\n",
       "      <td>0.136612</td>\n",
       "      <td>1.0</td>\n",
       "      <td>0.857881</td>\n",
       "      <td>0.565217</td>\n",
       "      <td>0.634752</td>\n",
       "      <td>0.117647</td>\n",
       "      <td>0.000000</td>\n",
       "    </tr>\n",
       "    <tr>\n",
       "      <th>4</th>\n",
       "      <td>0.560109</td>\n",
       "      <td>0.2</td>\n",
       "      <td>0.077519</td>\n",
       "      <td>0.092391</td>\n",
       "      <td>0.129433</td>\n",
       "      <td>0.529412</td>\n",
       "      <td>0.583333</td>\n",
       "    </tr>\n",
       "  </tbody>\n",
       "</table>\n",
       "</div>"
      ],
      "text/plain": [
       "        mpg  cylinders  cubicinches        hp  weightlbs  time-to-60      year\n",
       "0  0.109290        1.0     0.728682  0.646739   0.767139    0.235294  0.083333\n",
       "1  0.598361        0.2     0.054264  0.135870   0.092199    0.352941  0.750000\n",
       "2  0.191257        1.0     0.604651  0.510870   0.542553    0.176471  0.000000\n",
       "3  0.136612        1.0     0.857881  0.565217   0.634752    0.117647  0.000000\n",
       "4  0.560109        0.2     0.077519  0.092391   0.129433    0.529412  0.583333"
      ]
     },
     "execution_count": 7,
     "metadata": {},
     "output_type": "execute_result"
    }
   ],
   "source": [
    "minmax_processed = preprocessing.MinMaxScaler().fit_transform(df.drop('brand',axis=1))\n",
    "df_numeric_scaled = pd.DataFrame(minmax_processed, index=df.index, columns=df.columns[:-1])\n",
    "df_numeric_scaled.head()"
   ]
  },
  {
   "cell_type": "markdown",
   "metadata": {},
   "source": [
    "### Elbow Method"
   ]
  },
  {
   "cell_type": "code",
   "execution_count": 8,
   "metadata": {},
   "outputs": [
    {
     "data": {
      "image/png": "[encoded data removed]",
      "text/plain": [
       "<Figure size 432x288 with 1 Axes>"
      ]
     },
     "metadata": {
      "needs_background": "light"
     },
     "output_type": "display_data"
    }
   ],
   "source": [
    "wcss = []\n",
    "for i in range(1, 7):\n",
    "    kmeans = KMeans(n_clusters = i, init = 'k-means++', random_state = 42)\n",
    "    kmeans.fit(df_numeric_scaled)\n",
    "    wcss.append(kmeans.inertia_)\n",
    "plt.plot(range(1, 7), wcss,'bx-')\n",
    "plt.title('The Elbow Method')\n",
    "plt.xlabel('Number of clusters')\n",
    "plt.ylabel('WCSS')\n",
    "plt.show()"
   ]
  },
  {
   "cell_type": "markdown",
   "metadata": {},
   "source": [
    "### kmeans"
   ]
  },
  {
   "cell_type": "code",
   "execution_count": 9,
   "metadata": {},
   "outputs": [],
   "source": [
    "kmeans = KMeans(n_clusters = 4, init = 'k-means++')\n",
    "y_kmeans = kmeans.fit_predict(df_numeric_scaled)\n",
    "model=kmeans.fit(df_numeric_scaled)"
   ]
  },
  {
   "cell_type": "code",
   "execution_count": 10,
   "metadata": {},
   "outputs": [
    {
     "data": {
      "text/html": [
       "<div>\n",
       "<style scoped>\n",
       "    .dataframe tbody tr th:only-of-type {\n",
       "        vertical-align: middle;\n",
       "    }\n",
       "\n",
       "    .dataframe tbody tr th {\n",
       "        vertical-align: top;\n",
       "    }\n",
       "\n",
       "    .dataframe thead th {\n",
       "        text-align: right;\n",
       "    }\n",
       "</style>\n",
       "<table border=\"1\" class=\"dataframe\">\n",
       "  <thead>\n",
       "    <tr style=\"text-align: right;\">\n",
       "      <th></th>\n",
       "      <th>mpg</th>\n",
       "      <th>cylinders</th>\n",
       "      <th>cubicinches</th>\n",
       "      <th>hp</th>\n",
       "      <th>weightlbs</th>\n",
       "      <th>time-to-60</th>\n",
       "      <th>year</th>\n",
       "      <th>brand</th>\n",
       "      <th>cluster</th>\n",
       "    </tr>\n",
       "  </thead>\n",
       "  <tbody>\n",
       "    <tr>\n",
       "      <th>0</th>\n",
       "      <td>14.0</td>\n",
       "      <td>8.0</td>\n",
       "      <td>350.0</td>\n",
       "      <td>165.0</td>\n",
       "      <td>4209.0</td>\n",
       "      <td>12.0</td>\n",
       "      <td>1972.0</td>\n",
       "      <td>US.</td>\n",
       "      <td>1</td>\n",
       "    </tr>\n",
       "    <tr>\n",
       "      <th>1</th>\n",
       "      <td>31.9</td>\n",
       "      <td>4.0</td>\n",
       "      <td>89.0</td>\n",
       "      <td>71.0</td>\n",
       "      <td>1925.0</td>\n",
       "      <td>14.0</td>\n",
       "      <td>1980.0</td>\n",
       "      <td>Europe.</td>\n",
       "      <td>3</td>\n",
       "    </tr>\n",
       "    <tr>\n",
       "      <th>2</th>\n",
       "      <td>17.0</td>\n",
       "      <td>8.0</td>\n",
       "      <td>302.0</td>\n",
       "      <td>140.0</td>\n",
       "      <td>3449.0</td>\n",
       "      <td>11.0</td>\n",
       "      <td>1971.0</td>\n",
       "      <td>US.</td>\n",
       "      <td>1</td>\n",
       "    </tr>\n",
       "    <tr>\n",
       "      <th>3</th>\n",
       "      <td>15.0</td>\n",
       "      <td>8.0</td>\n",
       "      <td>400.0</td>\n",
       "      <td>150.0</td>\n",
       "      <td>3761.0</td>\n",
       "      <td>10.0</td>\n",
       "      <td>1971.0</td>\n",
       "      <td>US.</td>\n",
       "      <td>1</td>\n",
       "    </tr>\n",
       "    <tr>\n",
       "      <th>4</th>\n",
       "      <td>30.5</td>\n",
       "      <td>4.0</td>\n",
       "      <td>98.0</td>\n",
       "      <td>63.0</td>\n",
       "      <td>2051.0</td>\n",
       "      <td>17.0</td>\n",
       "      <td>1978.0</td>\n",
       "      <td>US.</td>\n",
       "      <td>3</td>\n",
       "    </tr>\n",
       "  </tbody>\n",
       "</table>\n",
       "</div>"
      ],
      "text/plain": [
       "    mpg  cylinders  cubicinches     hp  weightlbs  time-to-60    year  \\\n",
       "0  14.0        8.0        350.0  165.0     4209.0        12.0  1972.0   \n",
       "1  31.9        4.0         89.0   71.0     1925.0        14.0  1980.0   \n",
       "2  17.0        8.0        302.0  140.0     3449.0        11.0  1971.0   \n",
       "3  15.0        8.0        400.0  150.0     3761.0        10.0  1971.0   \n",
       "4  30.5        4.0         98.0   63.0     2051.0        17.0  1978.0   \n",
       "\n",
       "      brand  cluster  \n",
       "0       US.        1  \n",
       "1   Europe.        3  \n",
       "2       US.        1  \n",
       "3       US.        1  \n",
       "4       US.        3  "
      ]
     },
     "execution_count": 10,
     "metadata": {},
     "output_type": "execute_result"
    }
   ],
   "source": [
    "df['cluster'] = kmeans.labels_\n",
    "\n",
    "df.head()"
   ]
  },
  {
   "cell_type": "code",
   "execution_count": 11,
   "metadata": {},
   "outputs": [
    {
     "data": {
      "text/html": [
       "<div>\n",
       "<style scoped>\n",
       "    .dataframe tbody tr th:only-of-type {\n",
       "        vertical-align: middle;\n",
       "    }\n",
       "\n",
       "    .dataframe tbody tr th {\n",
       "        vertical-align: top;\n",
       "    }\n",
       "\n",
       "    .dataframe thead th {\n",
       "        text-align: right;\n",
       "    }\n",
       "</style>\n",
       "<table border=\"1\" class=\"dataframe\">\n",
       "  <thead>\n",
       "    <tr style=\"text-align: right;\">\n",
       "      <th>cluster</th>\n",
       "      <th>grup1</th>\n",
       "      <th>grup2</th>\n",
       "      <th>grup3</th>\n",
       "      <th>grup4</th>\n",
       "    </tr>\n",
       "  </thead>\n",
       "  <tbody>\n",
       "    <tr>\n",
       "      <th>mpg</th>\n",
       "      <td>25.491935</td>\n",
       "      <td>14.917808</td>\n",
       "      <td>19.977966</td>\n",
       "      <td>32.725373</td>\n",
       "    </tr>\n",
       "    <tr>\n",
       "      <th>cylinders</th>\n",
       "      <td>3.967742</td>\n",
       "      <td>8.000000</td>\n",
       "      <td>6.067797</td>\n",
       "      <td>4.044776</td>\n",
       "    </tr>\n",
       "    <tr>\n",
       "      <th>cubicinches</th>\n",
       "      <td>104.693548</td>\n",
       "      <td>352.095890</td>\n",
       "      <td>215.861658</td>\n",
       "      <td>112.089552</td>\n",
       "    </tr>\n",
       "    <tr>\n",
       "      <th>hp</th>\n",
       "      <td>80.451613</td>\n",
       "      <td>161.328767</td>\n",
       "      <td>101.271186</td>\n",
       "      <td>74.925373</td>\n",
       "    </tr>\n",
       "    <tr>\n",
       "      <th>weightlbs</th>\n",
       "      <td>2306.997312</td>\n",
       "      <td>4092.465753</td>\n",
       "      <td>3201.604520</td>\n",
       "      <td>2311.761194</td>\n",
       "    </tr>\n",
       "    <tr>\n",
       "      <th>time-to-60</th>\n",
       "      <td>16.596774</td>\n",
       "      <td>12.547945</td>\n",
       "      <td>16.389831</td>\n",
       "      <td>17.104478</td>\n",
       "    </tr>\n",
       "    <tr>\n",
       "      <th>year</th>\n",
       "      <td>1974.483871</td>\n",
       "      <td>1974.821918</td>\n",
       "      <td>1977.033898</td>\n",
       "      <td>1980.970149</td>\n",
       "    </tr>\n",
       "  </tbody>\n",
       "</table>\n",
       "</div>"
      ],
      "text/plain": [
       "cluster            grup1        grup2        grup3        grup4\n",
       "mpg            25.491935    14.917808    19.977966    32.725373\n",
       "cylinders       3.967742     8.000000     6.067797     4.044776\n",
       "cubicinches   104.693548   352.095890   215.861658   112.089552\n",
       "hp             80.451613   161.328767   101.271186    74.925373\n",
       "weightlbs    2306.997312  4092.465753  3201.604520  2311.761194\n",
       "time-to-60     16.596774    12.547945    16.389831    17.104478\n",
       "year         1974.483871  1974.821918  1977.033898  1980.970149"
      ]
     },
     "execution_count": 11,
     "metadata": {},
     "output_type": "execute_result"
    }
   ],
   "source": [
    "df[\"cluster\"].replace({0:\"grup1\",1:\"grup2\",2:\"grup3\",3:\"grup4\"}, inplace = True)\n",
    "means_cls=df.groupby(\"cluster\").agg('mean')\n",
    "means_cls.T"
   ]
  },
  {
   "cell_type": "code",
   "execution_count": 12,
   "metadata": {},
   "outputs": [
    {
     "data": {
      "image/png": "[encoded data removed]",
      "text/plain": [
       "<Figure size 648x504 with 1 Axes>"
      ]
     },
     "metadata": {
      "needs_background": "light"
     },
     "output_type": "display_data"
    }
   ],
   "source": [
    "df_numeric_scaled['cluster'] = kmeans.labels_\n",
    "df_numeric_scaled.groupby(\"cluster\").agg('mean').plot.bar(figsize=(9,7))\n",
    "plt.title(\"cluster averages\")\n",
    "plt.show()"
   ]
  },
  {
   "cell_type": "markdown",
   "metadata": {},
   "source": [
    "### PCA "
   ]
  },
  {
   "cell_type": "code",
   "execution_count": 14,
   "metadata": {},
   "outputs": [],
   "source": [
    "df_numeric_scaled = df_numeric_scaled.drop('cluster', axis=1)"
   ]
  },
  {
   "cell_type": "code",
   "execution_count": 15,
   "metadata": {},
   "outputs": [
    {
     "data": {
      "text/plain": [
       "PCA(copy=True, iterated_power='auto', n_components=None, random_state=None,\n",
       "    svd_solver='auto', tol=0.0, whiten=False)"
      ]
     },
     "execution_count": 15,
     "metadata": {},
     "output_type": "execute_result"
    }
   ],
   "source": [
    "pca=PCA()\n",
    "pca.fit(df_numeric_scaled)"
   ]
  },
  {
   "cell_type": "code",
   "execution_count": 16,
   "metadata": {},
   "outputs": [
    {
     "data": {
      "image/png": "[encoded data removed]",
      "text/plain": [
       "<Figure size 576x432 with 1 Axes>"
      ]
     },
     "metadata": {
      "needs_background": "light"
     },
     "output_type": "display_data"
    }
   ],
   "source": [
    "plt.figure(figsize=(8,6))\n",
    "plt.plot(range(1,8),pca.explained_variance_ratio_.cumsum(),marker='o')\n",
    "plt.show()"
   ]
  },
  {
   "cell_type": "code",
   "execution_count": 17,
   "metadata": {},
   "outputs": [],
   "source": [
    "pca = PCA(n_components = 2)\n",
    "dataset_questions_pca = pca.fit_transform(df_numeric_scaled)"
   ]
  },
  {
   "cell_type": "code",
   "execution_count": 18,
   "metadata": {},
   "outputs": [
    {
     "data": {
      "image/png": "[encoded data removed]",
      "text/plain": [
       "<Figure size 576x432 with 1 Axes>"
      ]
     },
     "metadata": {
      "needs_background": "light"
     },
     "output_type": "display_data"
    }
   ],
   "source": [
    "plt.figure(figsize=(8,6))\n",
    "plt.scatter(x=dataset_questions_pca[:,0], y=dataset_questions_pca[:,1], c=model.labels_,s=100) \n",
    "plt.xlabel('Canonical variable 1')\n",
    "plt.ylabel('Canonical variable 2')\n",
    "plt.title('Scatterplot of Canonical Variables for 4 Clusters')\n",
    "plt.show() "
   ]
  }
 ],
 "metadata": {
  "kernelspec": {
   "display_name": "Python 3",
   "language": "python",
   "name": "python3"
  },
  "language_info": {
   "codemirror_mode": {
    "name": "ipython",
    "version": 3
   },
   "file_extension": ".py",
   "mimetype": "text/x-python",
   "name": "python",
   "nbconvert_exporter": "python",
   "pygments_lexer": "ipython3",
   "version": "3.7.6"
  }
 },
 "nbformat": 4,
 "nbformat_minor": 4
}
